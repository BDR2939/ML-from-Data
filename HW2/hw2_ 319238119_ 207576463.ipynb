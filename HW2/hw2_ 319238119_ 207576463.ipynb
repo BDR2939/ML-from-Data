{
 "cells": [
  {
   "cell_type": "markdown",
   "metadata": {},
   "source": [
    "ID #1: 319238119\n",
    "\n",
    "ID #2: 207576463"
   ]
  },
  {
   "cell_type": "markdown",
   "metadata": {
    "nbgrader": {
     "grade": false,
     "grade_id": "cell-6bd0516e7cb654f5",
     "locked": true,
     "schema_version": 1,
     "solution": false
    }
   },
   "source": [
    "# Exercise 2: Decision Trees\n",
    "\n",
    "In this assignment you will implement a Decision Tree algorithm as learned in class.\n",
    "\n",
    "## Read the following instructions carefully:\n",
    "\n",
    "1. This jupyter notebook contains all the step by step instructions needed for this exercise.\n",
    "1. Submission includes this notebook only with the exercise number and your ID as the filename. For example: `hw2_123456789_987654321.ipynb` if you submitted in pairs and `hw2_123456789.ipynb` if you submitted the exercise alone.\n",
    "1. Write **efficient vectorized** code whenever possible. Some calculations in this exercise take several minutes when implemented efficiently, and might take much longer otherwise. Unnecessary loops will result in point deduction.\n",
    "1. You are responsible for the correctness of your code and should add as many tests as you see fit. Tests will not be graded nor checked.\n",
    "1. Write your functions in this notebook only. **Do not create Python modules and import them**.\n",
    "1. You are allowed to use functions and methods from the [Python Standard Library](https://docs.python.org/3/library/) and [numpy](https://www.numpy.org/devdocs/reference/) only. **Do not import anything else.**\n",
    "1. Your code must run without errors. Make sure your `numpy` version is at least 1.15.4 and that you are using at least python 3.6. Changes of the configuration we provided are at your own risk. Any code that cannot run will not be graded.\n",
    "1. Write your own code. Cheating will not be tolerated.\n",
    "1. Answers to qualitative questions should be written in **markdown** cells (with $\\LaTeX$ support). Answers that will be written in commented code blocks will not be checked.\n",
    "\n",
    "## In this exercise you will perform the following:\n",
    "1. Practice OOP in python.\n",
    "2. Implement two impurity measures: Gini and Entropy.\n",
    "3. Construct a decision tree algorithm.\n",
    "4. Prune the tree to achieve better results.\n",
    "5. Visualize your results."
   ]
  },
  {
   "cell_type": "markdown",
   "metadata": {},
   "source": [
    "# I have read and understood the instructions: 319238119, 207576463"
   ]
  },
  {
   "cell_type": "code",
   "execution_count": 1,
   "metadata": {
    "nbgrader": {
     "grade": false,
     "grade_id": "cell-ed9fe7b1026e33cb",
     "locked": true,
     "schema_version": 1,
     "solution": false
    }
   },
   "outputs": [],
   "source": [
    "import warnings\n",
    "import numpy as np\n",
    "import pandas as pd\n",
    "import matplotlib.pyplot as plt\n",
    "import math\n",
    "\n",
    "# make matplotlib figures appear inline in the notebook\n",
    "%matplotlib inline\n",
    "plt.rcParams['figure.figsize'] = (10.0, 8.0)  # set default size of plots\n",
    "plt.rcParams['image.interpolation'] = 'nearest'\n",
    "plt.rcParams['image.cmap'] = 'gray'\n",
    "\n",
    "# Ignore warnings\n",
    "warnings.filterwarnings('ignore')\n"
   ]
  },
  {
   "cell_type": "markdown",
   "metadata": {
    "nbgrader": {
     "grade": false,
     "grade_id": "cell-c6ac605270c2b091",
     "locked": true,
     "schema_version": 1,
     "solution": false
    }
   },
   "source": [
    "## Warmup - OOP in python\n",
    "\n",
    "Our desicion tree will be implemented using a dedicated python class. Python classes are very similar to classes in Java.\n",
    "\n",
    "\n",
    "You can use the following [site](https://jeffknupp.com/blog/2014/06/18/improve-your-python-python-classes-and-object-oriented-programming/) to learn about classes in python."
   ]
  },
  {
   "cell_type": "code",
   "execution_count": 2,
   "metadata": {},
   "outputs": [],
   "source": [
    "class Node(object):\n",
    "    def __init__(self, data):\n",
    "        self.data = data\n",
    "        self.children = []\n",
    "\n",
    "    def add_child(self, node):\n",
    "        self.children.append(node)\n"
   ]
  },
  {
   "cell_type": "code",
   "execution_count": 3,
   "metadata": {},
   "outputs": [
    {
     "data": {
      "text/plain": [
       "[<__main__.Node at 0x10917ac10>, <__main__.Node at 0x10917aa00>]"
      ]
     },
     "execution_count": 3,
     "metadata": {},
     "output_type": "execute_result"
    }
   ],
   "source": [
    "n = Node(5)\n",
    "p = Node(6)\n",
    "q = Node(7)\n",
    "n.add_child(p)\n",
    "n.add_child(q)\n",
    "n.children\n"
   ]
  },
  {
   "cell_type": "markdown",
   "metadata": {
    "nbgrader": {
     "grade": false,
     "grade_id": "cell-2f1ceb251c649b62",
     "locked": true,
     "schema_version": 1,
     "solution": false
    }
   },
   "source": [
    "## Data preprocessing\n",
    "\n",
    "For the following exercise, we will use a dataset containing mushroom data `agaricus-lepiota.csv`. \n",
    "\n",
    "This data set includes descriptions of hypothetical samples corresponding to 23 species of gilled mushrooms in the Agaricus and Lepiota Family. Each species is identified as definitely edible, definitely poisonous, or of unknown edibility and not recommended. This latter class was combined with the poisonous\n",
    "one (=there are only two classes **edible** and **poisonous**). \n",
    "    \n",
    "The dataset contains 8124 observations with 22 features:\n",
    "1. cap-shape: bell=b,conical=c,convex=x,flat=f,knobbed=k,sunken=s\n",
    "2. cap-surface: fibrous=f,grooves=g,scaly=y,smooth=s\n",
    "3. cap-color: brown=n,buff=b,cinnamon=c,gray=g,green=r,pink=p,purple=u,red=e,white=w,yellow=y\n",
    "4. bruises: bruises=t,no=f\n",
    "5. odor: almond=a,anise=l,creosote=c,fishy=y,foul=f, musty=m,none=n,pungent=p,spicy=s\n",
    "6. gill-attachment: attached=a,descending=d,free=f,notched=n\n",
    "7. gill-spacing: close=c,crowded=w,distant=d\n",
    "8. gill-size: broad=b,narrow=n\n",
    "9. gill-color: black=k,brown=n,buff=b,chocolate=h,gray=g,green=r,orange=o,pink=p,purple=u,red=e,white=w,yellow=y\n",
    "10. stalk-shape: enlarging=e,tapering=t\n",
    "11. stalk-root: bulbous=b,club=c,cup=u,equal=e,rhizomorphs=z,rooted=r\n",
    "12. stalk-surface-above-ring: fibrous=f,scaly=y,silky=k,smooth=s\n",
    "13. stalk-surface-below-ring: fibrous=f,scaly=y,silky=k,smooth=s\n",
    "14. stalk-color-above-ring: brown=n,buff=b,cinnamon=c,gray=g,orange=o,pink=p,red=e,white=w,yellow=y\n",
    "15. stalk-color-below-ring: brown=n,buff=b,cinnamon=c,gray=g,orange=o,pink=p,red=e,white=w,yellow=y\n",
    "16. veil-type: partial=p,universal=u\n",
    "17. veil-color: brown=n,orange=o,white=w,yellow=y\n",
    "18. ring-number: none=n,one=o,two=t\n",
    "19. ring-type: cobwebby=c,evanescent=e,flaring=f,large=l,none=n,pendant=p,sheathing=s,zone=z\n",
    "20. spore-print-color: black=k,brown=n,buff=b,chocolate=h,green=r,orange=o,purple=u,white=w,yellow=y\n",
    "21. population: abundant=a,clustered=c,numerous=n,scattered=s,several=v,solitary=y\n",
    "22. habitat: grasses=g,leaves=l,meadows=m,paths=p,urban=u,waste=w,woods=d\n",
    "\n",
    "First, we will read and explore the data using pandas and the `.read_csv` method. Pandas is an open source library providing high-performance, easy-to-use data structures and data analysis tools for the Python programming language."
   ]
  },
  {
   "cell_type": "code",
   "execution_count": 4,
   "metadata": {
    "nbgrader": {
     "grade": false,
     "grade_id": "cell-d79cb4542926ad3f",
     "locked": true,
     "schema_version": 1,
     "solution": false
    }
   },
   "outputs": [],
   "source": [
    "# load dataset\n",
    "data = pd.read_csv('agaricus-lepiota.csv')\n"
   ]
  },
  {
   "cell_type": "markdown",
   "metadata": {},
   "source": [
    "One of the advantages of the Decision Tree algorithm is that almost no preprocessing is required. However, finding missing values is always required."
   ]
  },
  {
   "cell_type": "code",
   "execution_count": 5,
   "metadata": {},
   "outputs": [],
   "source": [
    "data.dropna(axis=1, inplace=True)\n"
   ]
  },
  {
   "cell_type": "markdown",
   "metadata": {},
   "source": [
    "We will split the dataset to `Training` and `Testing` datasets."
   ]
  },
  {
   "cell_type": "code",
   "execution_count": 6,
   "metadata": {},
   "outputs": [
    {
     "name": "stdout",
     "output_type": "stream",
     "text": [
      "Training dataset shape:  (6093, 22)\n",
      "Testing dataset shape:  (2031, 22)\n"
     ]
    }
   ],
   "source": [
    "from sklearn.model_selection import train_test_split\n",
    "# Making sure the last column will hold the labels\n",
    "X, y = data.drop('class', axis=1), data['class']\n",
    "X = np.column_stack([X, y])\n",
    "# split dataset using random_state to get the same split each time\n",
    "X_train, X_test = train_test_split(X, random_state=99)\n",
    "\n",
    "print(\"Training dataset shape: \", X_train.shape)\n",
    "print(\"Testing dataset shape: \", X_test.shape)\n"
   ]
  },
  {
   "cell_type": "code",
   "execution_count": 7,
   "metadata": {},
   "outputs": [
    {
     "data": {
      "text/plain": [
       "(8124,)"
      ]
     },
     "execution_count": 7,
     "metadata": {},
     "output_type": "execute_result"
    }
   ],
   "source": [
    "y.shape\n"
   ]
  },
  {
   "cell_type": "markdown",
   "metadata": {
    "nbgrader": {
     "grade": false,
     "grade_id": "cell-fd7b0191f3f1e897",
     "locked": true,
     "schema_version": 1,
     "solution": false
    }
   },
   "source": [
    "## Impurity Measures\n",
    "\n",
    "Impurity is a measure of how often a randomly chosen element from the set would be incorrectly labeled if it was randomly labeled according to the distribution of labels in the subset. Implement the functions `calc_gini` and `calc_entropy`. You are encouraged to test your implementation (10 points)."
   ]
  },
  {
   "cell_type": "code",
   "execution_count": 8,
   "metadata": {},
   "outputs": [],
   "source": [
    "def calc_gini(data):\n",
    "    \"\"\"\n",
    "    Calculate gini impurity measure of a dataset.\n",
    "\n",
    "    Input:\n",
    "    - data: any dataset where the last column holds the labels.\n",
    "\n",
    "    Returns the gini impurity.    \n",
    "    \"\"\"\n",
    "\n",
    "    _, counts = np.unique(data[:, -1], return_counts=True)\n",
    "    gini = 1 - sum(map(lambda count: (count / sum(counts)) ** 2, counts))\n",
    "\n",
    "    return gini\n"
   ]
  },
  {
   "cell_type": "code",
   "execution_count": 9,
   "metadata": {},
   "outputs": [],
   "source": [
    "def calc_entropy(data):\n",
    "    \"\"\"\n",
    "    Calculate the entropy of a dataset.\n",
    "\n",
    "    Input:\n",
    "    - data: any dataset where the last column holds the labels.\n",
    "\n",
    "    Returns the entropy of the dataset.\n",
    "    \"\"\"\n",
    "\n",
    "    _, counts = np.unique(data[:, -1], return_counts=True)\n",
    "    entropy = sum(map(lambda count: - (count / sum(counts))\n",
    "                  * math.log2(count / sum(counts)), counts))\n",
    "\n",
    "    return entropy\n"
   ]
  },
  {
   "cell_type": "code",
   "execution_count": 10,
   "metadata": {
    "scrolled": true
   },
   "outputs": [
    {
     "name": "stdout",
     "output_type": "stream",
     "text": [
      "When the class of all instances is \"e\" we get calc_gini = 0.0\n",
      "When the class of all instances is \"e\" we get calc_entropy = 0.0\n",
      "When the class of all instances is \"p\" we get calc_gini = 0.0\n",
      "When the class of all instances is \"p\" we get calc_entropy = 0.0\n",
      "When the instances are split equally between \"e\" and \"p\" we get calc_gini = 0.5\n",
      "When the instances are split equally between \"e\" and \"p\" we get calc_entropy = 1.0\n",
      "gini on X = 0.4995636322379775\n",
      "Entropy on X = 0.9993703627906085\n"
     ]
    }
   ],
   "source": [
    "X_all_e_class = X[X[:, -1] == \"e\", :]\n",
    "print(\n",
    "    f'When the class of all instances is \"e\" we get calc_gini = {calc_gini(X_all_e_class)}')\n",
    "print(\n",
    "    f'When the class of all instances is \"e\" we get calc_entropy = {calc_entropy(X_all_e_class)}')\n",
    "X_all_p_class = X[X[:, -1] == \"p\", :]\n",
    "print(\n",
    "    f'When the class of all instances is \"p\" we get calc_gini = {calc_gini(X_all_p_class)}')\n",
    "print(\n",
    "    f'When the class of all instances is \"p\" we get calc_entropy = {calc_entropy(X_all_p_class)}')\n",
    "print(\n",
    "    f'When the instances are split equally between \"e\" and \"p\" we get calc_gini = {calc_gini(np.append(X_all_e_class[0:9, :], X_all_p_class[0:9, :], axis=0))}')\n",
    "print(\n",
    "    f'When the instances are split equally between \"e\" and \"p\" we get calc_entropy = {calc_entropy(np.append(X_all_e_class[0:9, :], X_all_p_class[0:9, :], axis=0))}')\n",
    "print(f'gini on X = {calc_gini(X)}')\n",
    "print(f'Entropy on X = {calc_entropy(X)}')\n"
   ]
  },
  {
   "cell_type": "markdown",
   "metadata": {},
   "source": [
    "## Goodness of Split\n",
    "\n",
    "Given a feature the Goodnees of Split measures the reduction in the impurity if we split the data according to the feature.\n",
    "$$\n",
    "\\Delta\\varphi(S, A) = \\varphi(S) - \\sum_{v\\in Values(A)} \\frac{|S_v|}{|S|}\\varphi(S_v)\n",
    "$$\n",
    "\n",
    "In our implementation the goodness_of_split function will return either the Goodness of Split or the Gain Ratio as learned in class. You'll control the return value with the `gain_ratio` parameter. If this parameter will set to False (the default value) it will return the regular Goodness of Split. If it will set to True it will return the Gain Ratio.\n",
    "$$\n",
    "GainRatio(S,A)=\\frac{InformationGain(S,A)}{SplitInformation(S,A)}\n",
    "$$\n",
    "Where:\n",
    "$$\n",
    "InformationGain(S,A)=Goodness\\ of\\ Split\\ calculated\\ with\\ Entropy\\ as\\ the\\ Impurity\\ function \\\\\n",
    "SplitInformation(S,A)=- \\sum_{a\\in A} \\frac{|S_a|}{|S|}\\log\\frac{|S_a|}{|S|}\n",
    "$$\n",
    "NOTE: you can add more parameters to the function and you can also add more returning variables (The given parameters and the given returning variable should not be touch). (10 Points)"
   ]
  },
  {
   "cell_type": "code",
   "execution_count": 11,
   "metadata": {},
   "outputs": [],
   "source": [
    "def goodness_of_split_internal(data, feature, impurity_func):\n",
    "    data_impurity = impurity_func(data)\n",
    "    impurity_sum = 0\n",
    "    feature_values = set(data[:, feature])\n",
    "    for feature_value in feature_values:\n",
    "        instances = data[data[:, feature] == feature_value]\n",
    "        impurity_sum += (instances.shape[0] /\n",
    "                         data.shape[0]) * impurity_func(instances)\n",
    "    return data_impurity - impurity_sum\n",
    "\n",
    "\n",
    "def calc_split_information(data, feature):\n",
    "    _, counts = np.unique(data[:, feature], return_counts=True)\n",
    "    split_information = sum(map(\n",
    "        lambda count: - (count / sum(counts)) * math.log2(count / sum(counts)), counts))\n",
    "    return split_information\n",
    "\n",
    "\n",
    "def goodness_of_split(data, feature, impurity_func, gain_ratio=False):\n",
    "    \"\"\"\n",
    "    Calculate the goodness of split of a dataset given a feature and impurity function.\n",
    "\n",
    "    Input:\n",
    "    - data: any dataset where the last column holds the labels.\n",
    "    - feature: the feature index.\n",
    "    - impurity func: a function that calculates the impurity.\n",
    "    - gain_ratio: goodness of split or gain ratio flag.\n",
    "\n",
    "    Returns the goodness of split (or the Gain Ration).  \n",
    "    \"\"\"\n",
    "\n",
    "    if not gain_ratio:\n",
    "        return goodness_of_split_internal(data, feature, impurity_func)\n",
    "    else:\n",
    "        information_gain = goodness_of_split_internal(\n",
    "            data, feature, impurity_func=calc_entropy)\n",
    "        split_information = calc_split_information(data, feature)\n",
    "        return information_gain / split_information\n"
   ]
  },
  {
   "cell_type": "code",
   "execution_count": 12,
   "metadata": {
    "collapsed": false,
    "pycharm": {
     "name": "#%%\n"
    }
   },
   "outputs": [
    {
     "name": "stdout",
     "output_type": "stream",
     "text": [
      "Goodness of split by feature 2 should be highest.\n",
      "Entropy: 1.0, Gini: 0.5, Gain Ratio: 1.0\n",
      "Goodness of split by feature 1 should be lowest.\n",
      "Entropy: 0.0, Gini: 0.0, Gain Ratio: 0.0\n",
      "Goodness of split by feature 0 should be somewhere in the middle.\n",
      "Entropy: 0.31, Gini: 0.17, Gain Ratio: 0.38\n"
     ]
    }
   ],
   "source": [
    "# Test for goodness_of_split\n",
    "\n",
    "X_goodness_test = np.array([['g', 'e', 'c', 'a'],\n",
    "                            ['g', 'f', 'c', 'a'],\n",
    "                            ['g', 'e', 'd', 'b'],\n",
    "                            ['h', 'f', 'd', 'b']])\n",
    "\n",
    "print(f'Goodness of split by feature 2 should be highest.')\n",
    "print(f'Entropy: {round(goodness_of_split(X_goodness_test, feature=2, impurity_func=calc_entropy), 2)}, Gini: {round(goodness_of_split(X_goodness_test, feature=2, impurity_func=calc_gini), 2)}, Gain Ratio: {round(goodness_of_split(X_goodness_test, feature=2, impurity_func=calc_entropy, gain_ratio=True), 2)}')\n",
    "print(f'Goodness of split by feature 1 should be lowest.')\n",
    "print(f'Entropy: {round(goodness_of_split(X_goodness_test, feature=1, impurity_func=calc_entropy), 2)}, Gini: {round(goodness_of_split(X_goodness_test, feature=1, impurity_func=calc_gini), 2)}, Gain Ratio: {round(goodness_of_split(X_goodness_test, feature=1, impurity_func=calc_entropy, gain_ratio=True), 2)}')\n",
    "print(f'Goodness of split by feature 0 should be somewhere in the middle.')\n",
    "print(f'Entropy: {round(goodness_of_split(X_goodness_test, feature=0, impurity_func=calc_entropy), 2)}, Gini: {round(goodness_of_split(X_goodness_test, feature=0, impurity_func=calc_gini), 2)}, Gain Ratio: {round(goodness_of_split(X_goodness_test, feature=0, impurity_func=calc_entropy, gain_ratio=True), 2)}')\n"
   ]
  },
  {
   "cell_type": "markdown",
   "metadata": {},
   "source": [
    "## Building a Decision Tree\n",
    "\n",
    "Use a Python class to construct the decision tree. Your class should support the following functionality:\n",
    "\n",
    "1. Initiating a node for a decision tree. You will need to use several class methods and class attributes and you are free to use them as you see fit. We recommend that every node will hold the feature and value used for the split and its children.\n",
    "2. Your code should support both Gini and Entropy as impurity measures. \n",
    "3. The provided data includes categorical data. In this exercise, when splitting a node create the number of children needed according to the attribute unique values.\n",
    "\n",
    "Complete the class `DecisionNode`. The structure of this class is entirely up to you. \n",
    "\n",
    "Complete the function `build_tree`. This function should get the training dataset and the impurity as inputs, initiate a root for the decision tree and construct the tree according to the procedure you learned in class. (30 points)"
   ]
  },
  {
   "cell_type": "code",
   "execution_count": 13,
   "metadata": {},
   "outputs": [],
   "source": [
    "class DecisionNode:\n",
    "    \"\"\"\n",
    "    This class will hold everything you require to construct a decision tree.\n",
    "    The structure of this class is up to you. However, you need to support basic \n",
    "    functionality as described above. It is highly recommended that you \n",
    "    first read and understand the entire exercise before diving into this class.\n",
    "    \"\"\"\n",
    "\n",
    "    def __init__(self, data, depth, feature_value):\n",
    "        self.data = data\n",
    "        self.depth = depth  # depth of the node, root depth is 0\n",
    "        # the value used for the split in the parent node\n",
    "        self.feature_value = feature_value\n",
    "        # the feature that is used for the split in the curr node, determined when the node is developed\n",
    "        self.feature_index = None\n",
    "        self.children = []\n",
    "\n",
    "        uniques = np.unique(data[:, -1], return_counts=True)\n",
    "        self.pred = uniques[0][np.where(uniques[1].max() == uniques[1])[0][0]]\n",
    "\n",
    "    def add_child(self, node):\n",
    "        self.children.append(node)\n",
    "\n",
    "    def set_feature_index(self, feature_index):\n",
    "        self.feature_index = feature_index  # column index of criteria being tested\n"
   ]
  },
  {
   "cell_type": "code",
   "execution_count": 14,
   "metadata": {},
   "outputs": [],
   "source": [
    "def is_pure(data):\n",
    "    return len(set(data[:, -1])) == 1\n",
    "\n",
    "\n",
    "def find_best_feature_for_split(data, impurity, gain_ratio, used_features):\n",
    "    max_goodness = -1\n",
    "    best_feature = None\n",
    "    for i in range(data.shape[1] - 1):\n",
    "        if i in used_features:\n",
    "            continue\n",
    "        goodness = goodness_of_split(data, i, impurity, gain_ratio)\n",
    "        if goodness > max_goodness:\n",
    "            max_goodness = goodness\n",
    "            best_feature = i\n",
    "    return best_feature\n",
    "\n",
    "\n",
    "def build_tree_internal(node, impurity, gain_ratio, min_samples_split, max_depth, used_features):\n",
    "    if min_samples_split > node.data.shape[0]:\n",
    "        return\n",
    "    if node.depth == max_depth:\n",
    "        return\n",
    "    if is_pure(node.data):\n",
    "        return\n",
    "    feature = find_best_feature_for_split(\n",
    "        node.data, impurity, gain_ratio, used_features)\n",
    "    used_features.add(feature)\n",
    "    node.set_feature_index(feature)\n",
    "    feature_values = set(node.data[:, feature])\n",
    "    for feature_value in feature_values:\n",
    "        child_data = node.data[node.data[:, feature] == feature_value]\n",
    "        child = DecisionNode(child_data, node.depth + 1, feature_value)\n",
    "        node.add_child(child)\n",
    "        build_tree_internal(child, impurity, gain_ratio,\n",
    "                            min_samples_split, max_depth, used_features)\n",
    "    used_features.remove(feature)\n",
    "    return\n",
    "\n",
    "\n",
    "def build_tree(data, impurity, gain_ratio=False, min_samples_split=1, max_depth=1000):\n",
    "    \"\"\"\n",
    "    Build a tree using the given impurity measure and training dataset. \n",
    "    You are required to fully grow the tree until all leaves are pure. \n",
    "\n",
    "    Input:\n",
    "    - data: the training dataset.\n",
    "    - impurity: the chosen impurity measure. Notice that you can send a function\n",
    "                as an argument in python.\n",
    "    - gain_ratio: goodness of split or gain ratio flag\n",
    "    - min_samples_split: the minimum number of samples required to split an internal node\n",
    "    - max_depth: the allowable depth of the tree\n",
    "\n",
    "    Output: the root node of the tree.\n",
    "    \"\"\"\n",
    "    root = DecisionNode(data=data, depth=0, feature_value=None)\n",
    "    used_features = set()\n",
    "    build_tree_internal(root, impurity, gain_ratio,\n",
    "                        min_samples_split, max_depth, used_features)\n",
    "    return root\n"
   ]
  },
  {
   "cell_type": "code",
   "execution_count": 15,
   "metadata": {},
   "outputs": [],
   "source": [
    "# python supports passing a function as an argument to another function.\n",
    "# gini and goodness of split\n",
    "tree_gini = build_tree(data=X_train, impurity=calc_gini)\n",
    "# entropy and goodness of split\n",
    "tree_entropy = build_tree(data=X_train, impurity=calc_entropy)\n",
    "tree_entropy_gain_ratio = build_tree(\n",
    "    data=X_train, impurity=calc_entropy, gain_ratio=True)  # entropy and gain ratio\n"
   ]
  },
  {
   "cell_type": "markdown",
   "metadata": {},
   "source": [
    "## Tree evaluation\n",
    "\n",
    "Complete the functions `predict` and `calc_accuracy`. (10 points)"
   ]
  },
  {
   "cell_type": "code",
   "execution_count": 16,
   "metadata": {},
   "outputs": [],
   "source": [
    "def predict(node, instance):\n",
    "    \"\"\"\n",
    "    Predict a given instance using the decision tree\n",
    "\n",
    "    Input:\n",
    "    - root: the root of the decision tree.\n",
    "    - instance: an row vector from the dataset. Note that the last element \n",
    "                of this vector is the label of the instance.\n",
    "\n",
    "    Output: the prediction of the instance.\n",
    "    \"\"\"\n",
    "    pred = None\n",
    "\n",
    "    value = instance[node.feature_index]\n",
    "    feature_values = [child.feature_value for child in node.children]\n",
    "\n",
    "    while value in feature_values:\n",
    "        for child in node.children:\n",
    "            if child.feature_value == value:\n",
    "                break\n",
    "        node = child\n",
    "        value = instance[node.feature_index]\n",
    "        feature_values = [child.feature_value for child in node.children]\n",
    "\n",
    "    return node.pred\n"
   ]
  },
  {
   "cell_type": "code",
   "execution_count": 17,
   "metadata": {},
   "outputs": [],
   "source": [
    "def calc_accuracy(node, dataset):\n",
    "    \"\"\"\n",
    "    Predict a given dataset using the decision tree\n",
    "\n",
    "    Input:\n",
    "    - node: a node in the decision tree.\n",
    "    - dataset: the dataset on which the accuracy is evaluated\n",
    "\n",
    "    Output: the accuracy of the decision tree on the given dataset (%).\n",
    "    \"\"\"\n",
    "    accuracy = 0\n",
    "\n",
    "    for i in range(dataset.shape[0]):\n",
    "        pred_val = predict(node, dataset[i, :])\n",
    "        if pred_val == dataset[i, -1]:\n",
    "            accuracy += 1\n",
    "\n",
    "    return accuracy / dataset.shape[0]\n"
   ]
  },
  {
   "cell_type": "markdown",
   "metadata": {},
   "source": [
    "After building the three trees using the training set, you should calculate the accuracy on the test set. For each tree print the training and test accuracy. Select the tree that gave you the best test accuracy. For the rest of the exercise, use that tree (when you asked to build another tree use the same impurity function and same gain_ratio flag). "
   ]
  },
  {
   "cell_type": "code",
   "execution_count": 18,
   "metadata": {},
   "outputs": [
    {
     "name": "stdout",
     "output_type": "stream",
     "text": [
      "Gini tree accuracy on train set is: 100.00%\n",
      "Gini tree accuracy on test set is: 77.25%\n",
      "\n",
      "Entrpy tree accuracy on train set is: 100.00%\n",
      "Entrpy tree accuracy on test set is: 77.15%\n",
      "\n",
      "Entropy - Gain ratio tree accuracy on train set is: 100.00%\n",
      "Entropy - Gain ratio tree accuracy on test set is: 78.53%\n"
     ]
    }
   ],
   "source": [
    "accuracy_gini = calc_accuracy(tree_gini, X_train)\n",
    "print(f\"Gini tree accuracy on train set is: {100 * accuracy_gini:.2f}%\")\n",
    "accuracy_gini = calc_accuracy(tree_gini, X_test)\n",
    "print(f\"Gini tree accuracy on test set is: {100 * accuracy_gini:.2f}%\\n\")\n",
    "\n",
    "accuracy_entropy = calc_accuracy(tree_entropy, X_train)\n",
    "print(f\"Entrpy tree accuracy on train set is: {100 * accuracy_entropy:.2f}%\")\n",
    "accuracy_entropy = calc_accuracy(tree_entropy, X_test)\n",
    "print(f\"Entrpy tree accuracy on test set is: {100 * accuracy_entropy:.2f}%\\n\")\n",
    "\n",
    "accuracy_entropy_gain_ratio = calc_accuracy(tree_entropy_gain_ratio, X_train)\n",
    "print(\n",
    "    f\"Entropy - Gain ratio tree accuracy on train set is: {100 * accuracy_entropy_gain_ratio:.2f}%\")\n",
    "accuracy_entropy_gain_ratio = calc_accuracy(tree_entropy_gain_ratio, X_test)\n",
    "print(\n",
    "    f\"Entropy - Gain ratio tree accuracy on test set is: {100 * accuracy_entropy_gain_ratio:.2f}%\")\n"
   ]
  },
  {
   "cell_type": "markdown",
   "metadata": {},
   "source": [
    "## Depth pruning\n",
    "\n",
    "(15 points)\n",
    "\n",
    "Consider the following max_depth values: [1, 2, 3, 4, 5, 6, 7, 8]. For each value, construct a tree and prune it according to the max_depth value = don't let the tree to grow beyond this depth. Next, calculate the training and testing accuracy.<br>\n",
    "On a single plot, draw the training and testing accuracy as a function of the max_depth. Mark the best result on the graph with red circle."
   ]
  },
  {
   "cell_type": "code",
   "execution_count": 19,
   "metadata": {},
   "outputs": [
    {
     "data": {
      "image/png": "[encoded data removed]",
      "text/plain": [
       "<Figure size 720x576 with 1 Axes>"
      ]
     },
     "metadata": {
      "needs_background": "light"
     },
     "output_type": "display_data"
    }
   ],
   "source": [
    "depths = [1, 2, 3, 4, 5, 6, 7, 8]\n",
    "\n",
    "train_accuracies_depth_pruning = []\n",
    "test_accuracies_depth_pruning = []\n",
    "\n",
    "for depth in depths:\n",
    "    tree = build_tree(data=X_train, impurity=calc_entropy,\n",
    "                      gain_ratio=True, max_depth=depth)\n",
    "    train_accuracy = calc_accuracy(tree, X_train)\n",
    "    test_accuracy = calc_accuracy(tree, X_test)\n",
    "\n",
    "    train_accuracies_depth_pruning.append(train_accuracy)\n",
    "    test_accuracies_depth_pruning.append(test_accuracy)\n",
    "\n",
    "fig, ax = plt.subplots()\n",
    "ax.plot(depths, train_accuracies_depth_pruning, label='Train accuracies')\n",
    "ax.plot(depths, test_accuracies_depth_pruning, label='Test accuracies')\n",
    "plt.scatter(depths[test_accuracies_depth_pruning.index(max(test_accuracies_depth_pruning))], max(test_accuracies_depth_pruning),\n",
    "            s=100, linewidths=2, facecolors='none', edgecolors='r', label='best test accuracy')\n",
    "ax.legend()\n",
    "plt.show(fig)\n"
   ]
  },
  {
   "cell_type": "markdown",
   "metadata": {},
   "source": [
    "## Min Samples Split\n",
    "\n",
    "(15 points)\n",
    "\n",
    "Consider the following min_samples_split values: [1, 5, 10, 20, 50]. For each value, construct a tree and prune it according to the min_samples_split value = don't split a node if the number of sample in it is less or equal to the min_samples_split value. Next, calculate the training and testing accuracy.<br>\n",
    "On a single plot, draw the training and testing accuracy as a function of the min_samples_split. Mark the best result on the graph with red circle. (make sure that the x-axis ticks represent the values of min_samples_split)"
   ]
  },
  {
   "cell_type": "code",
   "execution_count": 20,
   "metadata": {},
   "outputs": [
    {
     "data": {
      "image/png": "[encoded data removed]",
      "text/plain": [
       "<Figure size 720x576 with 1 Axes>"
      ]
     },
     "metadata": {
      "needs_background": "light"
     },
     "output_type": "display_data"
    }
   ],
   "source": [
    "min_samples_splits = [1, 5, 10, 20, 50, 100]\n",
    "\n",
    "train_accuracies_min_samples_splits = []\n",
    "test_accuracies_min_samples_splits = []\n",
    "\n",
    "for min_samples in min_samples_splits:\n",
    "    tree = build_tree(data=X_train, impurity=calc_entropy,\n",
    "                      gain_ratio=True, min_samples_split=min_samples)\n",
    "    train_accuracy = calc_accuracy(tree, X_train)\n",
    "    test_accuracy = calc_accuracy(tree, X_test)\n",
    "\n",
    "    train_accuracies_min_samples_splits.append(train_accuracy)\n",
    "    test_accuracies_min_samples_splits.append(test_accuracy)\n",
    "\n",
    "fig, ax = plt.subplots()\n",
    "ax.plot(min_samples_splits, train_accuracies_min_samples_splits, label='Train accuracies')\n",
    "ax.plot(min_samples_splits, test_accuracies_min_samples_splits, label='Test accuracies')\n",
    "plt.scatter(min_samples_splits[test_accuracies_min_samples_splits.index(max(test_accuracies_min_samples_splits))], max(\n",
    "    test_accuracies_min_samples_splits), s=100, linewidths=2, facecolors='none', edgecolors='r', label='best test accuracy')\n",
    "ax.legend()\n",
    "plt.show(fig)\n"
   ]
  },
  {
   "cell_type": "markdown",
   "metadata": {},
   "source": [
    "Build the best 2 trees:\n",
    "1. tree_max_depth - the best tree according to max_depth pruning\n",
    "1. tree_min_samples_split - the best tree according to min_samples_split pruning"
   ]
  },
  {
   "cell_type": "code",
   "execution_count": 21,
   "metadata": {},
   "outputs": [],
   "source": [
    "tree_max_depth = build_tree(\n",
    "    data=X_train,\n",
    "    impurity=calc_entropy,\n",
    "    gain_ratio=True,\n",
    "    max_depth=depths[test_accuracies_depth_pruning.index(max(test_accuracies_depth_pruning))])\n",
    "tree_min_samples_split = build_tree(\n",
    "    data=X_train,\n",
    "    impurity=calc_entropy,\n",
    "    gain_ratio=True,\n",
    "    min_samples_split=min_samples_splits[test_accuracies_min_samples_splits.index(max(test_accuracies_min_samples_splits))])\n"
   ]
  },
  {
   "cell_type": "markdown",
   "metadata": {},
   "source": [
    "## Number of Nodes\n",
    "\n",
    "(5 points)\n",
    "\n",
    "Complete the function counts_nodes and print the number of nodes in each tree and print the number of nodes of the two trees above"
   ]
  },
  {
   "cell_type": "code",
   "execution_count": 22,
   "metadata": {},
   "outputs": [],
   "source": [
    "def count_nodes(node):\n",
    "    \"\"\"\n",
    "    Count the number of node in a given tree\n",
    " \n",
    "    Input:\n",
    "    - node: a node in the decision tree.\n",
    " \n",
    "    Output: the number of node in the tree.\n",
    "    \"\"\"\n",
    "    count = 1\n",
    "    if node.children:\n",
    "        for child_node in node.children:\n",
    "            count += count_nodes(child_node)\n",
    "    \n",
    "    return count\n",
    "    "
   ]
  },
  {
   "cell_type": "code",
   "execution_count": 23,
   "metadata": {},
   "outputs": [
    {
     "name": "stdout",
     "output_type": "stream",
     "text": [
      "Nodes in Gini Tree = 3406\n",
      "Nodes in Entropy Tree = 3386\n",
      "Nodes in Entropy Tree with Gain Ratio = 3317\n",
      "Nodes in Max Depth Tree = 205\n",
      "Nodes in Min Samples Split Tree = 349\n"
     ]
    }
   ],
   "source": [
    "tree_dict = {\"Gini Tree\": tree_gini, \"Entropy Tree\": tree_entropy,\n",
    "             \"Entropy Tree with Gain Ratio\": tree_entropy_gain_ratio,\n",
    "             \"Max Depth Tree\": tree_max_depth,\n",
    "             \"Min Samples Split Tree\": tree_min_samples_split}\n",
    "\n",
    "for key in tree_dict:\n",
    "    print(f'Nodes in {key} = {count_nodes(tree_dict[key])}')\n"
   ]
  },
  {
   "cell_type": "markdown",
   "metadata": {},
   "source": [
    "## Print the tree\n",
    "\n",
    "Complete the function `print_tree`. Your tree should be visualized clearly. You can use the following example as a reference:\n",
    "```\n",
    "[ROOT, feature=X0],\n",
    "  [X0=a, feature=X2]\n",
    "    [X2=c, leaf]: [{1.0: 10}]\n",
    "    [X2=d, leaf]: [{0.0: 10}]\n",
    "  [X0=y, feature=X5], \n",
    "    [X5=a, leaf]: [{1.0: 5}]\n",
    "    [X5=s, leaf]: [{0.0: 10}]\n",
    "  [X0=e, leaf]: [{0.0: 25, 1.0: 50}]\n",
    "```\n",
    "In each brackets:\n",
    "* The first argument is the parent feature with the value that led to current node\n",
    "* The second argument is the selected feature of the current node\n",
    "* If the current node is a leaf, you need to print also the labels and their counts\n",
    "\n",
    "(5 points)"
   ]
  },
  {
   "cell_type": "code",
   "execution_count": 24,
   "metadata": {},
   "outputs": [],
   "source": [
    "def print_tree(node, parent_feature='ROOT'):\n",
    "    '''\n",
    "    prints the tree according to the example above\n",
    "\n",
    "    Input:\n",
    "    - node: a node in the decision tree\n",
    "\n",
    "    This function has no return value\n",
    "    '''\n",
    "    spaces = '  ' * node.depth\n",
    "    if len(node.children) == 0:\n",
    "        values, counts = np.unique(node.data[:, -1], return_counts=True)\n",
    "        values_message = ''\n",
    "        for i in range(len(values)):\n",
    "            if i != (len(values) - 1):\n",
    "                values_message = values_message + values[i] + ':' + str(counts[i]) + ', '\n",
    "            else:\n",
    "                values_message = values_message + values[i] + ':' + str(counts[i])\n",
    "        values_message = '{' + values_message + '}'\n",
    "        print(f'{spaces}[{parent_feature}, leaf]: [{values_message}]')\n",
    "    else:\n",
    "        print(f'{spaces}[{parent_feature}, feature={node.feature_index}]')\n",
    "        for child in node.children:\n",
    "            print_tree(child, f'X{node.feature_index}={child.feature_value}')\n"
   ]
  },
  {
   "cell_type": "markdown",
   "metadata": {},
   "source": [
    "print the tree with the best test accuracy and with less than 50 nodes (from the two pruning methods)"
   ]
  },
  {
   "cell_type": "code",
   "execution_count": 25,
   "metadata": {},
   "outputs": [
    {
     "name": "stdout",
     "output_type": "stream",
     "text": [
      "Max accuracy = 0.8852781880846874\n",
      "Number of nodes = 10\n",
      "\n",
      "[ROOT, feature=4]\n",
      "  [X4=p, leaf]: [{e:8, p:175}]\n",
      "  [X4=y, leaf]: [{e:49, p:382}]\n",
      "  [X4=c, leaf]: [{e:10, p:137}]\n",
      "  [X4=m, leaf]: [{e:2, p:25}]\n",
      "  [X4=s, leaf]: [{e:38, p:380}]\n",
      "  [X4=a, leaf]: [{e:273, p:31}]\n",
      "  [X4=n, leaf]: [{e:2332, p:344}]\n",
      "  [X4=f, leaf]: [{e:170, p:1438}]\n",
      "  [X4=l, leaf]: [{e:272, p:27}]\n"
     ]
    }
   ],
   "source": [
    "def get_key(dict, val):\n",
    "    for key, value in dict.items():\n",
    "         if val == value:\n",
    "             return key\n",
    " \n",
    "    return \"key doesn't exist\"\n",
    "\n",
    "test_accuracies_depth_pruning = {}\n",
    "\n",
    "for depth in depths:\n",
    "    tree = build_tree(data=X_train, impurity=calc_entropy,\n",
    "                      gain_ratio=True, max_depth=depth)\n",
    "    if count_nodes(tree) < 50:\n",
    "        test_accuracy = calc_accuracy(tree, X_test)\n",
    "        test_accuracies_depth_pruning[depth] = test_accuracy\n",
    "\n",
    "test_accuracies_min_samples_splits = {}\n",
    "\n",
    "for min_samples in min_samples_splits:\n",
    "    tree = build_tree(data=X_train, impurity=calc_entropy,\n",
    "                      gain_ratio=True, min_samples_split=min_samples)\n",
    "\n",
    "    if count_nodes(tree) < 50:\n",
    "        test_accuracy = calc_accuracy(tree, X_test)\n",
    "        test_accuracies_min_samples_splits[min_samples] = test_accuracy\n",
    "\n",
    "if test_accuracies_depth_pruning:\n",
    "    max_accuracy_depth = max(test_accuracies_depth_pruning.values())\n",
    "else:\n",
    "    max_accuracy_depth = 0\n",
    "if test_accuracies_min_samples_splits:\n",
    "    max_accuracy_min_samples = max(test_accuracies_min_samples_splits.values())\n",
    "else:\n",
    "    max_accuracy_min_samples = 0\n",
    "\n",
    "if max_accuracy_depth > max_accuracy_min_samples:\n",
    "    max_depth = get_key(test_accuracies_depth_pruning, max_accuracy_depth)\n",
    "    best_tree_sub_50 = build_tree(data=X_train, impurity=calc_entropy,\n",
    "                      gain_ratio=True, max_depth=max_depth)\n",
    "    \n",
    "    print(f'Max accuracy = {max_accuracy_depth}')\n",
    "    print(f'Number of nodes = {count_nodes(best_tree_sub_50)}\\n')\n",
    "    print_tree(best_tree_sub_50)\n",
    "else:\n",
    "    min_split = get_key(test_accuracies_min_samples_splits, max_accuracy_min_samples)\n",
    "    best_tree_sub_50 = build_tree(data=X_train, impurity=calc_entropy,\n",
    "                      gain_ratio=True, min_samples_split=min_split)\n",
    "\n",
    "    print(f'Max accuracy = {max_accuracy_min_samples}')\n",
    "    print(f'Number of nodes = {count_nodes(best_tree_sub_50)}\\n')\n",
    "    print_tree(best_tree_sub_50)"
   ]
  }
 ],
 "metadata": {
  "celltoolbar": "Create Assignment",
  "kernelspec": {
   "display_name": "Python 3 (ipykernel)",
   "language": "python",
   "name": "python3"
  },
  "language_info": {
   "codemirror_mode": {
    "name": "ipython",
    "version": 3
   },
   "file_extension": ".py",
   "mimetype": "text/x-python",
   "name": "python",
   "nbconvert_exporter": "python",
   "pygments_lexer": "ipython3",
   "version": "3.8.12"
  }
 },
 "nbformat": 4,
 "nbformat_minor": 4
}
