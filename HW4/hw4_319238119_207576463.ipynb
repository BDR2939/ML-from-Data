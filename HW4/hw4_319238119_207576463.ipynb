{
 "cells": [
  {
   "cell_type": "markdown",
   "metadata": {},
   "source": [
    "# Exercise 4: Logistic Regression, Bayes and EM\n",
    "\n",
    "In this assignment you will implement several algorithms as learned in class.\n",
    "\n",
    "## Read the following instructions carefully:\n",
    "\n",
    "1. This jupyter notebook contains all the step by step instructions needed for this exercise.\n",
    "2. Write **efficient vectorized** code whenever possible. Some calculations in this exercise take several minutes when implemented efficiently, and might take much longer otherwise. Unnecessary loops will result in point deduction.\n",
    "3. You are responsible for the correctness of your code and should add as many tests as you see fit. Tests will not be graded nor checked.\n",
    "4. Write your functions in this notebook only. **Do not create Python modules and import them**.\n",
    "5. You are allowed to use functions and methods from the [Python Standard Library](https://docs.python.org/3/library/) and [numpy](https://www.numpy.org/devdocs/reference/) and pandas. \n",
    "6. Your code must run without errors. During the environment setup, you were given a specific version of `numpy` to install (1.15.4). Changes of the configuration we provided are at your own risk. Any code that cannot run will not be graded.\n",
    "7. Write your own code. Cheating will not be tolerated.\n",
    "8. Submission includes this notebook only with the exercise number and your ID as the filename. For example: `hw4_123456789_987654321.ipynb` if you submitted in pairs and `hw4_123456789.ipynb` if you submitted the exercise alone.\n",
    "9. Answers to qualitative questions should be written in **markdown** cells (with $\\LaTeX$ support). Answers that will be written in commented code blocks will not be checked.\n",
    "\n",
    "## In this exercise you will perform the following:\n",
    "1. Implement Logistic Regression algorithm.\n",
    "1. Implement EM algorithm.\n",
    "1. Implement Navie Bayes algorithm that uses EM for calculating the likelihood.\n",
    "1. Visualize your results."
   ]
  },
  {
   "cell_type": "markdown",
   "metadata": {},
   "source": [
    "# I have read and understood the instructions: 319238119, 207576463"
   ]
  },
  {
   "cell_type": "code",
   "execution_count": 1,
   "metadata": {},
   "outputs": [],
   "source": [
    "import numpy as np\n",
    "import pandas as pd\n",
    "from matplotlib.colors import ListedColormap\n",
    "import matplotlib.pyplot as plt\n",
    "\n",
    "# make matplotlib figures appear inline in the notebook\n",
    "%matplotlib inline\n",
    "plt.rcParams['figure.figsize'] = (10.0, 8.0) # set default size of plots\n",
    "plt.rcParams['image.interpolation'] = 'nearest'\n",
    "plt.rcParams['image.cmap'] = 'gray'\n",
    "\n",
    "# Make the notebook automatically reload external python modules\n",
    "%load_ext autoreload\n",
    "%autoreload 2\n",
    "# Ignore warnings\n",
    "import warnings\n",
    "warnings.filterwarnings('ignore')"
   ]
  },
  {
   "cell_type": "code",
   "execution_count": 2,
   "metadata": {},
   "outputs": [],
   "source": [
    "# Function for ploting the decision boundaries of a model\n",
    "# You will use it later\n",
    "def plot_decision_regions(X, y, classifier, resolution=0.01):\n",
    "\n",
    "    # setup marker generator and color map\n",
    "    markers = ('.', '.')\n",
    "    colors = ('blue', 'red')\n",
    "    cmap = ListedColormap(colors[:len(np.unique(y))])\n",
    "    # plot the decision surface\n",
    "    x1_min, x1_max = X[:, 0].min() - 1, X[:, 0].max() + 1\n",
    "    x2_min, x2_max = X[:, 1].min() - 1, X[:, 1].max() + 1\n",
    "    xx1, xx2 = np.meshgrid(np.arange(x1_min, x1_max, resolution),\n",
    "                           np.arange(x2_min, x2_max, resolution))\n",
    "    Z = classifier.predict(np.array([xx1.ravel(), xx2.ravel()]).T)\n",
    "    Z = Z.reshape(xx1.shape)\n",
    "    plt.contourf(xx1, xx2, Z, alpha=0.3, cmap=cmap)\n",
    "    plt.xlim(xx1.min(), xx1.max())\n",
    "    plt.ylim(xx2.min(), xx2.max())\n",
    "\n",
    "    for idx, cl in enumerate(np.unique(y)):\n",
    "        plt.scatter(x=X[y == cl, 0], \n",
    "                    y=X[y == cl, 1],\n",
    "                    alpha=0.8, \n",
    "                    c=colors[idx],\n",
    "                    marker=markers[idx], \n",
    "                    label=cl, \n",
    "                    edgecolor='black')"
   ]
  },
  {
   "cell_type": "markdown",
   "metadata": {},
   "source": [
    "## Reading the data"
   ]
  },
  {
   "cell_type": "code",
   "execution_count": 3,
   "metadata": {},
   "outputs": [],
   "source": [
    "training_set = pd.read_csv('training_set.csv')\n",
    "test_set = pd.read_csv('test_set.csv')\n",
    "X_training, y_training = training_set[['x1', 'x2']].values, training_set['y'].values\n",
    "X_test, y_test = test_set[['x1', 'x2']].values, test_set['y'].values"
   ]
  },
  {
   "cell_type": "code",
   "execution_count": 4,
   "metadata": {},
   "outputs": [
    {
     "data": {
      "text/html": [
       "<div>\n",
       "<style scoped>\n",
       "    .dataframe tbody tr th:only-of-type {\n",
       "        vertical-align: middle;\n",
       "    }\n",
       "\n",
       "    .dataframe tbody tr th {\n",
       "        vertical-align: top;\n",
       "    }\n",
       "\n",
       "    .dataframe thead th {\n",
       "        text-align: right;\n",
       "    }\n",
       "</style>\n",
       "<table border=\"1\" class=\"dataframe\">\n",
       "  <thead>\n",
       "    <tr style=\"text-align: right;\">\n",
       "      <th></th>\n",
       "      <th>x1</th>\n",
       "      <th>x2</th>\n",
       "      <th>y</th>\n",
       "    </tr>\n",
       "  </thead>\n",
       "  <tbody>\n",
       "    <tr>\n",
       "      <th>0</th>\n",
       "      <td>-1.385789</td>\n",
       "      <td>9.131464</td>\n",
       "      <td>0</td>\n",
       "    </tr>\n",
       "    <tr>\n",
       "      <th>1</th>\n",
       "      <td>-2.236903</td>\n",
       "      <td>5.561178</td>\n",
       "      <td>0</td>\n",
       "    </tr>\n",
       "    <tr>\n",
       "      <th>2</th>\n",
       "      <td>-2.362524</td>\n",
       "      <td>5.215973</td>\n",
       "      <td>0</td>\n",
       "    </tr>\n",
       "    <tr>\n",
       "      <th>3</th>\n",
       "      <td>-0.499655</td>\n",
       "      <td>4.981781</td>\n",
       "      <td>0</td>\n",
       "    </tr>\n",
       "    <tr>\n",
       "      <th>4</th>\n",
       "      <td>-2.976062</td>\n",
       "      <td>6.236138</td>\n",
       "      <td>0</td>\n",
       "    </tr>\n",
       "    <tr>\n",
       "      <th>...</th>\n",
       "      <td>...</td>\n",
       "      <td>...</td>\n",
       "      <td>...</td>\n",
       "    </tr>\n",
       "    <tr>\n",
       "      <th>1995</th>\n",
       "      <td>7.386494</td>\n",
       "      <td>2.598401</td>\n",
       "      <td>1</td>\n",
       "    </tr>\n",
       "    <tr>\n",
       "      <th>1996</th>\n",
       "      <td>5.119879</td>\n",
       "      <td>2.730597</td>\n",
       "      <td>1</td>\n",
       "    </tr>\n",
       "    <tr>\n",
       "      <th>1997</th>\n",
       "      <td>7.424200</td>\n",
       "      <td>1.774931</td>\n",
       "      <td>1</td>\n",
       "    </tr>\n",
       "    <tr>\n",
       "      <th>1998</th>\n",
       "      <td>6.670740</td>\n",
       "      <td>0.335701</td>\n",
       "      <td>1</td>\n",
       "    </tr>\n",
       "    <tr>\n",
       "      <th>1999</th>\n",
       "      <td>4.169066</td>\n",
       "      <td>1.648743</td>\n",
       "      <td>1</td>\n",
       "    </tr>\n",
       "  </tbody>\n",
       "</table>\n",
       "<p>2000 rows × 3 columns</p>\n",
       "</div>"
      ],
      "text/plain": [
       "            x1        x2  y\n",
       "0    -1.385789  9.131464  0\n",
       "1    -2.236903  5.561178  0\n",
       "2    -2.362524  5.215973  0\n",
       "3    -0.499655  4.981781  0\n",
       "4    -2.976062  6.236138  0\n",
       "...        ...       ... ..\n",
       "1995  7.386494  2.598401  1\n",
       "1996  5.119879  2.730597  1\n",
       "1997  7.424200  1.774931  1\n",
       "1998  6.670740  0.335701  1\n",
       "1999  4.169066  1.648743  1\n",
       "\n",
       "[2000 rows x 3 columns]"
      ]
     },
     "execution_count": 4,
     "metadata": {},
     "output_type": "execute_result"
    }
   ],
   "source": [
    "training_set"
   ]
  },
  {
   "cell_type": "markdown",
   "metadata": {},
   "source": [
    "## Visualizing the data\n",
    "(2 points each - 8 points total)\n",
    "\n",
    "Plot the following graphs for the training set:\n",
    "\n",
    "For the first feature only:\n",
    "1. For the first 1000 data points plot a histogram for each class on the same graph (use bins=20, alpha=0.5).\n",
    "1. For all the data points plot a histogram for each class on the same graph (use bins=40, alpha=0.5).\n",
    "\n",
    "For both features:\n",
    "1. For the first 1000 data points plot a scatter plot where each class has different color\n",
    "1. For all the data points plot a scatter plot where each class has different color"
   ]
  },
  {
   "cell_type": "code",
   "execution_count": 5,
   "metadata": {},
   "outputs": [
    {
     "data": {
      "image/png": "[encoded data removed]",
      "text/plain": [
       "<Figure size 720x576 with 1 Axes>"
      ]
     },
     "metadata": {
      "needs_background": "light"
     },
     "output_type": "display_data"
    }
   ],
   "source": [
    "first_1000_data_point = training_set.iloc[1: 1000, :]\n",
    "fig, ax = plt.subplots()\n",
    "\n",
    "for val in np.unique(y_training):\n",
    "    class_points = first_1000_data_point.loc[first_1000_data_point['y'] == val]\n",
    "    ax.hist(class_points['x1'].values, bins = 20, alpha = 0.5, edgecolor = 'k', linewidth = 0.5)\n",
    "\n",
    "plt.show()"
   ]
  },
  {
   "cell_type": "code",
   "execution_count": 6,
   "metadata": {},
   "outputs": [
    {
     "data": {
      "image/png": "[encoded data removed]",
      "text/plain": [
       "<Figure size 720x576 with 1 Axes>"
      ]
     },
     "metadata": {
      "needs_background": "light"
     },
     "output_type": "display_data"
    }
   ],
   "source": [
    "fig, ax = plt.subplots()\n",
    "\n",
    "for val in np.unique(y_training):\n",
    "    class_points = training_set.loc[training_set['y'] == val]\n",
    "    ax.hist(class_points['x1'].values, bins = 40, alpha = 0.5, edgecolor = 'k', linewidth = 0.5)\n",
    "\n",
    "plt.show()"
   ]
  },
  {
   "cell_type": "code",
   "execution_count": 7,
   "metadata": {},
   "outputs": [
    {
     "data": {
      "image/png": "[encoded data removed]",
      "text/plain": [
       "<Figure size 720x576 with 1 Axes>"
      ]
     },
     "metadata": {
      "needs_background": "light"
     },
     "output_type": "display_data"
    }
   ],
   "source": [
    "fig, ax = plt.subplots()\n",
    "\n",
    "for val in np.unique(y_training):\n",
    "    class_points = first_1000_data_point.loc[first_1000_data_point['y'] == val]\n",
    "    ax.scatter(class_points['x1'].values, class_points['x2'])\n",
    "\n",
    "plt.show()"
   ]
  },
  {
   "cell_type": "code",
   "execution_count": 8,
   "metadata": {},
   "outputs": [
    {
     "data": {
      "image/png": "[encoded data removed]",
      "text/plain": [
       "<Figure size 720x576 with 1 Axes>"
      ]
     },
     "metadata": {
      "needs_background": "light"
     },
     "output_type": "display_data"
    }
   ],
   "source": [
    "fig, ax = plt.subplots()\n",
    "\n",
    "for val in np.unique(y_training):\n",
    "    class_points = training_set.loc[training_set['y'] == val]\n",
    "    ax.scatter(class_points['x1'].values, class_points['x2'],)\n",
    "\n",
    "plt.show()"
   ]
  },
  {
   "cell_type": "markdown",
   "metadata": {},
   "source": [
    "## Logistic Regression\n",
    "\n",
    "(15 Points)\n",
    "\n",
    "Implement the Logistic Regression algorithm that uses gradient descent for finding the optimal theta vector. \n",
    "\n",
    "Where:\n",
    "$$\n",
    "h_\\theta(x) = \\frac{1}{1 + e^{-\\theta^T x}}\n",
    "$$\n",
    "\n",
    "$$\n",
    "J(\\theta)=\\frac{1}{m} \\sum_{d=1}^{m} - y^{(d)}ln(h_\\theta(x^{(d)}) - (1 - y^{(d)})ln(1 - h_\\theta(x^{(d)})\n",
    "$$\n",
    "\n",
    "Your class should contain the following functions:\n",
    "1. fit - the learning function\n",
    "1. predict - the function for predicting an instance after the fit function was executed\n",
    "\n",
    "\\* You can add more functions if you think this is necessary\n",
    "\n",
    "Your model should also store a list of the costs that you've calculated in each iteration"
   ]
  },
  {
   "cell_type": "code",
   "execution_count": 9,
   "metadata": {},
   "outputs": [],
   "source": [
    "def add_bias(data):\n",
    "    return np.c_[np.ones(data.shape[0]), data]"
   ]
  },
  {
   "cell_type": "code",
   "execution_count": 10,
   "metadata": {},
   "outputs": [],
   "source": [
    "class LogisticRegressionGD(object):\n",
    "    \"\"\"\n",
    "    Logistic Regression Classifier using gradient descent.\n",
    "\n",
    "    Parameters\n",
    "    ------------\n",
    "    eta : float\n",
    "      Learning rate (between 0.0 and 1.0)\n",
    "    n_iter : int\n",
    "      Passes over the training dataset.\n",
    "    eps : float\n",
    "      minimal change in the cost to declare convergence\n",
    "    random_state : int\n",
    "      Random number generator seed for random weight\n",
    "      initialization.\n",
    "    \"\"\"\n",
    "    \n",
    "    def __init__(self, eta=0.00005, n_iter=10000, eps=0.000001, random_state=1):\n",
    "        self.eta = eta\n",
    "        self.n_iter = n_iter\n",
    "        self.eps = eps\n",
    "        self.random_state = random_state\n",
    "\n",
    "    def fit(self, X, y):\n",
    "        \"\"\" \n",
    "        Fit training data (the learning phase).\n",
    "        Updating the theta vector in each iteration using gradient descent.\n",
    "        Store the theta vector in an attribute of the LogisticRegressionGD object.\n",
    "        Stop the function when the difference between the previous cost and the current is less than eps\n",
    "        or when you reach n_iter.\n",
    "\n",
    "        Parameters\n",
    "        ----------\n",
    "        X : {array-like}, shape = [n_examples, n_features]\n",
    "          Training vectors, where n_examples is the number of examples and\n",
    "          n_features is the number of features.\n",
    "        y : array-like, shape = [n_examples]\n",
    "          Target values.\n",
    "\n",
    "        \"\"\"\n",
    "        X = add_bias(X)\n",
    "\n",
    "        J_history = [] # Use a python list to save cost in every iteration\n",
    "        np.random.seed(self.random_state)\n",
    "        theta = np.random.rand(np.shape(X)[1])\n",
    "        m = np.shape(X)[0]        \n",
    "\n",
    "        i = 0\n",
    "        flag = True\n",
    "        while flag and i < self.n_iter:\n",
    "            y_hat = self.compute_y_hat(X, theta)\n",
    "            J = self.compute_cost(y, y_hat, m)\n",
    "\n",
    "            if len(J_history) > 0:\n",
    "                flag = J_history[-1] - J > self.eps \n",
    "                \n",
    "            J_history.append(J)\n",
    "\n",
    "            theta = theta - self.eta * np.matmul((y_hat - y).transpose(), X)\n",
    "            i += 1\n",
    "\n",
    "        self.theta = theta\n",
    "        return theta, J_history\n",
    "    \n",
    "    def predict(self, X):\n",
    "        \"\"\"Return the predicted class label\"\"\"\n",
    "        X = add_bias(X)\n",
    "        predicted_vals = self.compute_y_hat(X, self.theta)\n",
    "        return (predicted_vals > 0.5).astype(int)\n",
    "\n",
    "    def compute_cost(self, y, y_hat, m):\n",
    "      return np.sum(-y * np.log(y_hat) - (1-y) * np.log(1 - y_hat)) / m\n",
    "\n",
    "    def compute_y_hat(self, X, theta):\n",
    "      return 1/ (1 + np.e ** (np.matmul(X, -theta.transpose())))\n"
   ]
  },
  {
   "cell_type": "code",
   "execution_count": 11,
   "metadata": {},
   "outputs": [
    {
     "data": {
      "text/plain": [
       "0.804"
      ]
     },
     "execution_count": 11,
     "metadata": {},
     "output_type": "execute_result"
    }
   ],
   "source": [
    "LOR_model = LogisticRegressionGD()\n",
    "theta, J_history = LOR_model.fit(X_training, y_training)\n",
    "y_hat_LOR = LOR_model.predict(X_test)\n",
    "np.sum((y_hat_LOR == y_test).astype(int))/len(y_hat_LOR)"
   ]
  },
  {
   "cell_type": "markdown",
   "metadata": {},
   "source": [
    "## Cross Validation\n",
    "\n",
    "(5 points)\n",
    "\n",
    "Use 5-fold cross validation in order to find the best eps and eta params from the given lists.\n",
    "\n",
    "Shuffle the training set before you split the data to the folds."
   ]
  },
  {
   "cell_type": "code",
   "execution_count": 12,
   "metadata": {
    "scrolled": true
   },
   "outputs": [
    {
     "name": "stdout",
     "output_type": "stream",
     "text": [
      "best eta: 5e-05 \n",
      "best eps: 1e-06\n"
     ]
    }
   ],
   "source": [
    "NUM_FOLDS = 5\n",
    "\n",
    "shuffeled_training_set = np.c_[X_training, y_training]\n",
    "np.random.shuffle(shuffeled_training_set)\n",
    "\n",
    "m = len(shuffeled_training_set)\n",
    "fold_size = int(m / NUM_FOLDS)\n",
    "\n",
    "folds = [shuffeled_training_set[i : i + fold_size] for i in range(0, m, fold_size)]\n",
    "\n",
    "etas = [0.05, 0.005, 0.0005, 0.00005, 0.000005]\n",
    "epss = [0.01, 0.001, 0.0001, 0.00001, 0.000001]\n",
    "\n",
    "results = []\n",
    "\n",
    "for eps in epss:\n",
    "    for eta in etas:\n",
    "        mid_results = []\n",
    "        for i in range(NUM_FOLDS):\n",
    "            training_folds = np.array([])\n",
    "            for j in range(NUM_FOLDS):\n",
    "                if j != i:\n",
    "                    if len(training_folds) == 0:\n",
    "                        training_folds = folds[j]\n",
    "                    else:\n",
    "                        training_folds = np.append(training_folds, folds[j], axis = 0)\n",
    "            \n",
    "            X_training_folds = training_folds[:, 0:2]\n",
    "            y_training_folds = training_folds[:, 2]\n",
    "            model = LogisticRegressionGD(eta=eta, eps=eps)\n",
    "            model.fit(X_training_folds, y_training_folds)\n",
    "            y_pred = model.predict(folds[i][:, 0:2])\n",
    "\n",
    "            y_real = folds[i][:, 2]\n",
    "\n",
    "            acc = np.mean((y_pred == y_real).astype(int))\n",
    "            mid_results.append(acc)\n",
    "        \n",
    "        mean_acc = np.mean(mid_results)\n",
    "        results.append((eta, eps, mean_acc))\n",
    "\n",
    "best_acc_vals = max(results,key=lambda item:item[2])\n",
    "best_eta = best_acc_vals[0]\n",
    "best_eps = best_acc_vals[1]\n",
    "\n",
    "print(f'best eta: {best_eta} \\nbest eps: {best_eps}')\n"
   ]
  },
  {
   "cell_type": "markdown",
   "metadata": {},
   "source": [
    "## Normal distribution pdf\n",
    "\n",
    "(2 Points)\n",
    "\n",
    "Implement the normal distribution pdf \n",
    "$$\n",
    "f(x;\\mu,\\sigma) = \\frac{1}{\\sigma\\sqrt{2\\pi}}e^{-\\frac{1}{2}(\\frac{x-\\mu}{\\sigma})^2}\n",
    "$$\n",
    "Write an efficient vectorized code"
   ]
  },
  {
   "cell_type": "code",
   "execution_count": 13,
   "metadata": {},
   "outputs": [],
   "source": [
    "# calc normal pdf    \n",
    "def norm_pdf(data, mu, sigma):\n",
    "    return np.exp(-(((data - mu) / sigma) ** 2) / 2) / (sigma * ((2 * np.pi) ** 0.5))"
   ]
  },
  {
   "cell_type": "markdown",
   "metadata": {},
   "source": [
    "## Expectation Maximization\n",
    "\n",
    "(15 Points)\n",
    "\n",
    "Implement the Expectation Maximization algorithm for gaussian mixture model.\n",
    "\n",
    "The class should hold the distribution params.\n",
    "\n",
    "Use -log likelihood as the cost function:\n",
    "$$\n",
    "cost(x) = \\sum_{d=1}^{m}-log(w * pdf(x; \\mu, \\sigma))\n",
    "$$\n",
    "\n",
    "\\* The above is the cost of one gaussian. Think how to use the cost function for gaussian mixture.\n",
    "\n",
    "Your class should contain the following functions:\n",
    "1. init_params - initialize distribution params\n",
    "1. expectation - calculating responsibilities\n",
    "1. maximization - updating distribution params\n",
    "1. fit - the learning function\n",
    "1. get_dist_params - return the distribution params\n",
    "\n",
    "\\* You can add more functions if you think this is necessary\n",
    "\n",
    "Don't change the eps params (eps=0.01)\n",
    "\n",
    "When you need to calculate the pdf of a normal distribution use the function `norm_pdf` that you implemented above."
   ]
  },
  {
   "cell_type": "code",
   "execution_count": 14,
   "metadata": {},
   "outputs": [],
   "source": [
    "class EM(object):\n",
    "    \"\"\"\n",
    "    Naive Bayes Classifier using Gauusian Mixture Model (EM) for calculating the likelihood.\n",
    "\n",
    "    Parameters\n",
    "    ------------\n",
    "    k : int\n",
    "      Number of gaussians in each dimension\n",
    "    n_iter : int\n",
    "      Passes over the training dataset in the EM proccess\n",
    "    eps: float\n",
    "      minimal change in the cost to declare convergence\n",
    "    random_state : int\n",
    "      Random number generator seed for random params initialization.\n",
    "    \"\"\"\n",
    "    \n",
    "    def __init__(self, k=1, n_iter=1000, eps=0.01, random_state = 1):\n",
    "        self.k = k\n",
    "        self.n_iter = n_iter\n",
    "        self.eps = eps\n",
    "        self.random_state = random_state\n",
    "\n",
    "    # initial guesses for parameters\n",
    "    def init_params(self, data):\n",
    "        \"\"\"\n",
    "        Initialize distribution params\n",
    "        \"\"\"\n",
    "        \n",
    "        ws = np.ones(self.k) * 1/self.k\n",
    "        np.random.seed(self.random_state)\n",
    "        mus = np.random.rand(self.k)\n",
    "        sigmas = np.random.rand(self.k) + 5\n",
    "\n",
    "        self.ws = ws\n",
    "        self.mus = mus\n",
    "        self.sigmas = sigmas\n",
    "\n",
    "    def expectation(self, data):\n",
    "        \"\"\"\n",
    "        E step - calculating responsibilities\n",
    "        \"\"\"\n",
    "        likelihoods = np.zeros((np.shape(data)[0], self.k))\n",
    "        for i in range(self.k):\n",
    "            likelihoods[:, i] = self.ws[i] * norm_pdf(data, self.mus[i], self.sigmas[i])\n",
    "          \n",
    "        responsibilities = likelihoods / likelihoods.sum(axis=1, keepdims=True)\n",
    "       \n",
    "        self.responsibilities = responsibilities\n",
    "\n",
    "        return likelihoods\n",
    "\n",
    "\n",
    "    def maximization(self, data):\n",
    "        \"\"\"\n",
    "        M step - updating distribution params\n",
    "        \"\"\"\n",
    "        responsibilities = self.responsibilities\n",
    "\n",
    "        new_weights = np.sum(responsibilities, axis = 0)\n",
    "        new_weights = new_weights / np.shape(responsibilities)[0]\n",
    "\n",
    "        new_mus = np.divide(np.matmul(responsibilities.transpose(), data), new_weights * np.shape(responsibilities)[0])\n",
    "\n",
    "        data_duplicated = np.tile(np.array([data]).transpose(), (1, self.k))\n",
    "        data_duplicated = np.divide(data_duplicated, new_mus)\n",
    "\n",
    "        sigmas = np.divide(np.matmul(responsibilities.transpose(), data_duplicated ** 2), new_weights * np.shape(responsibilities)[0]) ** 0.5\n",
    "\n",
    "        new_sigmas = np.array([sigmas[i][i] for i in range(self.k)])\n",
    "\n",
    "        self.ws = new_weights\n",
    "        self.mus = new_mus\n",
    "        self.sigmas = new_sigmas\n",
    "\n",
    "    def fit(self, data):\n",
    "        \"\"\" \n",
    "        Fit training data (the learning phase).\n",
    "        Use init_params and then expectation and maximization function in order to find params \n",
    "        for the distribution. \n",
    "        Store the params in attributes of the EM object.\n",
    "        Stop the function when the difference between the previous cost and the current is less than eps\n",
    "        or when you reach n_iter.\n",
    "        \"\"\"\n",
    "        cost_history = [] # Use a python list to save cost in every iteration\n",
    "        self.init_params(data)\n",
    "        \n",
    "        i = 0\n",
    "        flag = True\n",
    "        while flag and i < self.n_iter:\n",
    "            likelihoods = self.expectation(data)\n",
    "            self.maximization(data)\n",
    "            cost = self.compute_cost(likelihoods)\n",
    "\n",
    "            if len(cost_history) > 0:\n",
    "                flag = abs(cost_history[-1] - cost) > self.eps \n",
    "                \n",
    "            cost_history.append(cost)\n",
    "\n",
    "            i += 1\n",
    "\n",
    "    def get_dist_params(self):\n",
    "        return {'weights': self.ws, 'mu':self.mus, 'sigmas':self.sigmas}\n",
    "\n",
    "    def compute_cost(self, likelihoods):\n",
    "      \n",
    "      return np.sum(-np.log(likelihoods))"
   ]
  },
  {
   "cell_type": "code",
   "execution_count": 15,
   "metadata": {},
   "outputs": [
    {
     "data": {
      "text/plain": [
       "{'weights': array([0.41690074, 0.58309926]),\n",
       " 'mu': array([-1.94096165,  4.04294341]),\n",
       " 'sigmas': array([1.12676184, 1.03188892])}"
      ]
     },
     "execution_count": 15,
     "metadata": {},
     "output_type": "execute_result"
    }
   ],
   "source": [
    "em = EM(k=2)\n",
    "em.fit(training_set.loc[training_set['y'] == 0, 'x1'].values)\n",
    "\n",
    "em.get_dist_params()"
   ]
  },
  {
   "cell_type": "markdown",
   "metadata": {},
   "source": [
    "## Naive Bayes\n",
    "\n",
    "(15 Points)\n",
    "\n",
    "Implement the Naive Bayes algorithm.\n",
    "\n",
    "For calculating the likelihood use the EM algorithm that you implemented above to find the distribution params. With these params you can calculate the likelihood probability.\n",
    "\n",
    "Calculate the prior probability directly from the training set.\n",
    "\n",
    "Your class should contain the following functions:\n",
    "1. fit - the learning function\n",
    "1. predict - the function for predicting an instance (or instances) after the fit function was executed\n",
    "\n",
    "\\* You can add more functions if you think this is necessary\n"
   ]
  },
  {
   "cell_type": "code",
   "execution_count": 16,
   "metadata": {},
   "outputs": [],
   "source": [
    "class NaiveBayesGaussian(object):\n",
    "    \"\"\"\n",
    "    Naive Bayes Classifier using Gauusian Mixture Model (EM) for calculating the likelihood.\n",
    "\n",
    "    Parameters\n",
    "    ------------\n",
    "    k : int\n",
    "      Number of gaussians in each dimension\n",
    "    random_state : int\n",
    "      Random number generator seed for random params initialization.\n",
    "    \"\"\"\n",
    "    \n",
    "    def __init__(self, k=1):\n",
    "        self.k = k\n",
    "\n",
    "    def fit(self, X, y):\n",
    "        \"\"\" \n",
    "        Fit training data.\n",
    "\n",
    "        Parameters\n",
    "        ----------\n",
    "        X : array-like, shape = [n_examples, n_features]\n",
    "          Training vectors, where n_examples is the number of examples and\n",
    "          n_features is the number of features.\n",
    "        y : array-like, shape = [n_examples]\n",
    "          Target values.\n",
    "        \"\"\"\n",
    "        classes, classes_counts = np.unique(y, return_counts=True)\n",
    "        priors = classes_counts / np.sum(classes_counts)\n",
    "\n",
    "        models = {}\n",
    "\n",
    "        for data_class in classes:\n",
    "          for i in range(np.shape(X)[1]):\n",
    "            model = EM(k = self.k)\n",
    "            model.fit(X[y == data_class, i])\n",
    "            models[(i, data_class)] = model\n",
    "\n",
    "        self.classes = classes\n",
    "        self.priors = priors\n",
    "        self.models = models\n",
    "    \n",
    "    def predict(self, X):\n",
    "        \"\"\"Return the predicted class label\"\"\"\n",
    "        posteriors = []\n",
    "        for i in range(len(self.classes)):\n",
    "            class_posterior = np.multiply(np.ones(X.shape[0]), self.priors[i])\n",
    "            for j in range(np.shape(X)[1]):\n",
    "                model = self.models[(j, self.classes[i])]\n",
    "                likelihoods = self.get_likelihoods(model.get_dist_params(), X[:, j])\n",
    "                class_posterior = np.multiply(class_posterior,likelihoods)\n",
    "            \n",
    "            posteriors.append(class_posterior)\n",
    "            \n",
    "        max_posterior = np.argmax(posteriors, axis=0)\n",
    "\n",
    "        return max_posterior\n",
    "    \n",
    "    def get_likelihoods(self, dist_params, data):\n",
    "      likelihoods = np.zeros((np.shape(data)[0], len(dist_params['weights'])))\n",
    "      for i in range(len(dist_params['weights'])):\n",
    "          likelihoods[:, i] = np.multiply(norm_pdf(data, dist_params['mu'][i], dist_params['sigmas'][i]), dist_params['weights'][i])\n",
    "      \n",
    "      return np.max(likelihoods, axis=1)"
   ]
  },
  {
   "cell_type": "code",
   "execution_count": 17,
   "metadata": {},
   "outputs": [
    {
     "data": {
      "text/plain": [
       "0.865"
      ]
     },
     "execution_count": 17,
     "metadata": {},
     "output_type": "execute_result"
    }
   ],
   "source": [
    "NB = NaiveBayesGaussian(k = 2)\n",
    "NB.fit(X_training, y_training)\n",
    "y_hat_NB = NB.predict(X_test)"
   ]
  },
  {
   "cell_type": "markdown",
   "metadata": {},
   "source": [
    "## Model evaluation\n",
    "\n",
    "(20 points)\n",
    "\n",
    "In this section you will build 2 models and fit them to 2 datasets\n",
    "\n",
    "First 1000 training points and first 500 test points:\n",
    "1. Use the first 1000 points from the training set (take the first original 1000 points - before the shuffle) and the first 500 points from the test set.\n",
    "1. Fit Logistic Regression model with the best params you found earlier.\n",
    "1. Fit Naive Bayes model. Remember that you need to select the number of gaussians in the EM.\n",
    "1. Print the training and test accuracies for each model.\n",
    "1. Use the `plot_decision_regions` function to plot the decision boundaries for each model (for this you need to use the training set as the input)\n",
    "1. Plot the cost Vs the iteration number for the Logistic Regression model\n",
    "\n",
    "Use all the training set points:\n",
    "1. Repeat sections 2-6 for all the training set points\n",
    "1. Provide one or two sentences on each graph explaining what you observe in the graph.\n",
    "\n",
    "#### Don't forget to label your graphs ####"
   ]
  },
  {
   "cell_type": "code",
   "execution_count": null,
   "metadata": {},
   "outputs": [],
   "source": [
    "#### Your code here ####"
   ]
  },
  {
   "cell_type": "markdown",
   "metadata": {},
   "source": [
    "## Open question\n",
    "\n",
    "(20 points) \n",
    "\n",
    "1. In this homework we explored two types of models: Naive Bayes using EM, and Logistic regression.  \n",
    "   1. Generate a dataset, in 3 dimensions (3 features), with 2 classes, using **only** Multivariate-Gaussians (as many as you want) that you think **Naive Bayes will work better than Logisitc Regression**.\n",
    "   2. Generate another dataset, in 3 dimensions (3 features), with 2 classes, using **only** Multivariate-Gaussians (as many as you want) that you think **Logistic Regression will work better than Naive Bayes**.\n",
    "   \n",
    "   - Explain the reasoning behind each dataset.  \n",
    "\n",
    "2. Visualize the datasets.  \n",
    "   You can choose one of two options for the visualization:\n",
    "    1. Plot three 2d graphs of all the features against each other (feature1 vs feature2, feature1 vs feature3, feature2 vs feature3).\n",
    "    2. Plot one 3d graph.\n",
    "\n",
    "**Important Note**  \n",
    "For this question only, you may use:  \n",
    "```\n",
    "from scipy.stats import multivariate_normal\n",
    "```"
   ]
  },
  {
   "cell_type": "markdown",
   "metadata": {},
   "source": [
    "#### Your code and explanations here ####\n"
   ]
  },
  {
   "cell_type": "code",
   "execution_count": null,
   "metadata": {},
   "outputs": [],
   "source": []
  }
 ],
 "metadata": {
  "interpreter": {
   "hash": "570feb405e2e27c949193ac68f46852414290d515b0ba6e5d90d076ed2284471"
  },
  "kernelspec": {
   "display_name": "Python 3.8.10 64-bit",
   "language": "python",
   "name": "python3"
  },
  "language_info": {
   "codemirror_mode": {
    "name": "ipython",
    "version": 3
   },
   "file_extension": ".py",
   "mimetype": "text/x-python",
   "name": "python",
   "nbconvert_exporter": "python",
   "pygments_lexer": "ipython3",
   "version": "3.8.10"
  }
 },
 "nbformat": 4,
 "nbformat_minor": 4
}
